{
 "cells": [
  {
   "cell_type": "markdown",
   "id": "af5fe17a",
   "metadata": {},
   "source": [
    "<h1>Variabel dan Tipe Data Python<h1><hr>\n",
    "<font color=\"blue\">Beberapa</font> aturan pembuatan variabel di <b>python</b>:\n",
    "\n",
    "<ol>\n",
    "    <li>Bersifat case sensitif => A != a</li>\n",
    "    <li>harus diawali dengan huruf atau karakter _(underscore)</li>\n",
    "    <li>Tidak boleh menggunakan spasi</li>\n",
    "    <li>Boleh menggunakan angka</li>\n",
    "</ol>"
   ]
  },
  {
   "cell_type": "code",
   "execution_count": 4,
   "id": "943ecc84",
   "metadata": {},
   "outputs": [
    {
     "name": "stdout",
     "output_type": "stream",
     "text": [
      "14\n",
      "100.9\n",
      "1\n",
      "True\n"
     ]
    }
   ],
   "source": [
    "data_int = 14\n",
    "data_float = 100.9\n",
    "data_string = '1'\n",
    "data_bool = True\n",
    "\n",
    "print(data_int)\n",
    "print(data_float)\n",
    "print(data_string)\n",
    "print(data_bool)"
   ]
  },
  {
   "cell_type": "markdown",
   "id": "f0ff8b25",
   "metadata": {},
   "source": [
    "Untuk mengetahui tipe data dari sebuah variabel gunakan command <b>type</b>"
   ]
  },
  {
   "cell_type": "code",
   "execution_count": 5,
   "id": "03ac0ec6",
   "metadata": {},
   "outputs": [
    {
     "name": "stdout",
     "output_type": "stream",
     "text": [
      "<class 'int'>\n",
      "<class 'float'>\n",
      "<class 'str'>\n",
      "<class 'bool'>\n"
     ]
    }
   ],
   "source": [
    "print(type(data_int))\n",
    "print(type(data_float))\n",
    "print(type(data_string))\n",
    "print(type(data_bool))"
   ]
  },
  {
   "cell_type": "markdown",
   "id": "c4481c11",
   "metadata": {},
   "source": [
    "Pada phyton terdapat proses <b>CASTING</b> yaitu konversi dari sebuah tipe data ke tipe data yang lain yaitu dengan sintaks <b>tipe_data(nama_variabel)</b>"
   ]
  },
  {
   "cell_type": "code",
   "execution_count": 6,
   "id": "a7a4ffcd",
   "metadata": {},
   "outputs": [
    {
     "name": "stdout",
     "output_type": "stream",
     "text": [
      "Nilai variabel data_int= 14\n",
      "14.0\n",
      "14\n",
      "True\n"
     ]
    }
   ],
   "source": [
    "int_to_float = float(data_int)\n",
    "int_to_string = str(data_int)\n",
    "int_to_bool = bool(data_int)\n",
    "\n",
    "print(\"Nilai variabel data_int=\",data_int)\n",
    "print(int_to_float)\n",
    "print(int_to_string)\n",
    "print(int_to_bool)"
   ]
  },
  {
   "cell_type": "code",
   "execution_count": 7,
   "id": "947cb7fb",
   "metadata": {},
   "outputs": [
    {
     "name": "stdout",
     "output_type": "stream",
     "text": [
      "Nilai variabel data_float= 100.9\n",
      "100.9\n",
      "100.9\n",
      "True\n"
     ]
    }
   ],
   "source": [
    "float_to_int = float(data_float)\n",
    "float_to_string = str(data_float)\n",
    "float_to_bool = bool(data_float)\n",
    "\n",
    "print(\"Nilai variabel data_float=\",data_float)\n",
    "print(float_to_int)\n",
    "print(float_to_string)\n",
    "print(float_to_bool)"
   ]
  },
  {
   "cell_type": "code",
   "execution_count": 8,
   "id": "9296b2cc",
   "metadata": {},
   "outputs": [
    {
     "name": "stdout",
     "output_type": "stream",
     "text": [
      "Nilai variabel data_string= 1\n",
      "1\n",
      "1.0\n",
      "True\n"
     ]
    }
   ],
   "source": [
    "string_to_int = int(data_string)\n",
    "string_to_float = float(data_string)\n",
    "string_to_bool = bool(data_string)\n",
    "\n",
    "print(\"Nilai variabel data_string=\",data_string)\n",
    "print(string_to_int)\n",
    "print(string_to_float)\n",
    "print(string_to_bool)"
   ]
  },
  {
   "cell_type": "code",
   "execution_count": 10,
   "id": "4b429541",
   "metadata": {},
   "outputs": [
    {
     "name": "stdout",
     "output_type": "stream",
     "text": [
      "Nilai variabel data_bool= True\n",
      "1\n",
      "1.0\n",
      "True\n"
     ]
    }
   ],
   "source": [
    "bool_to_int = int(data_bool)\n",
    "bool_to_float = float(data_bool)\n",
    "bool_to_string = str(data_bool)\n",
    "\n",
    "print(\"Nilai variabel data_bool=\",data_bool)\n",
    "print(bool_to_int)\n",
    "print(bool_to_float)\n",
    "print(bool_to_string)"
   ]
  },
  {
   "cell_type": "code",
   "execution_count": 13,
   "id": "380d77b1",
   "metadata": {},
   "outputs": [
    {
     "name": "stdout",
     "output_type": "stream",
     "text": [
      "Isikan bilangan 1:20\n",
      "Isikan bilangan 2:2\n",
      "Hasil penjumlahan 22\n",
      "Hasil pembagian 10.0\n",
      "Hasil perkalian 40\n"
     ]
    }
   ],
   "source": [
    "bil1 = int(input(\"Isikan bilangan 1:\"))\n",
    "bil2 = int(input(\"Isikan bilangan 2:\"))\n",
    "hasil_tambah = bil1 + bil2\n",
    "hasil_bagi = bil1 / bil2\n",
    "hasil_perkalian = bil1 * bil2\n",
    "print(\"Hasil penjumlahan\",hasil_tambah)\n",
    "print(\"Hasil pembagian\",hasil_bagi)\n",
    "print(\"Hasil perkalian\",hasil_perkalian)"
   ]
  },
  {
   "cell_type": "code",
   "execution_count": null,
   "id": "0c114dca",
   "metadata": {},
   "outputs": [],
   "source": []
  }
 ],
 "metadata": {
  "kernelspec": {
   "display_name": "Python 3 (ipykernel)",
   "language": "python",
   "name": "python3"
  },
  "language_info": {
   "codemirror_mode": {
    "name": "ipython",
    "version": 3
   },
   "file_extension": ".py",
   "mimetype": "text/x-python",
   "name": "python",
   "nbconvert_exporter": "python",
   "pygments_lexer": "ipython3",
   "version": "3.9.12"
  }
 },
 "nbformat": 4,
 "nbformat_minor": 5
}
